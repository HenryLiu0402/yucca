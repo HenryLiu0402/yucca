{
 "cells": [
  {
   "cell_type": "code",
   "execution_count": 1,
   "metadata": {},
   "outputs": [
    {
     "name": "stderr",
     "output_type": "stream",
     "text": [
      "/home/zcr545/miniconda3/envs/yuccat2/lib/python3.10/site-packages/tqdm/auto.py:21: TqdmWarning: IProgress not found. Please update jupyter and ipywidgets. See https://ipywidgets.readthedocs.io/en/stable/user_install.html\n",
      "  from .autonotebook import tqdm as notebook_tqdm\n"
     ]
    },
    {
     "name": "stdout",
     "output_type": "stream",
     "text": [
      "Data is shaped : (1, 256, 287, 256)\n"
     ]
    }
   ],
   "source": [
    "import torchio as tio\n",
    "from nibabel.testing import data_path\n",
    "import nibabel as nib\n",
    "import os\n",
    "from copy import deepcopy\n",
    "import numpy as np\n",
    "import timeit\n",
    "\n",
    "np.random.seed(4215235)\n",
    "iterations = 2\n",
    "# We use a publicly available sample from Nibabel\n",
    "example_file = os.path.join(data_path, 'example4d.nii.gz')\n",
    "im = nib.load(example_file)\n",
    "imarr = im.get_fdata()[:, :, :, 0]\n",
    "\n",
    "# If you want to use a local example for more realistic times, replace the imarr variable\n",
    "# My local variable:\n",
    "local_file = '/home/zcr545/YuccaData/yucca_raw_data/Task001_TestTask/imagesTr/TestTask_1000_000.nii.gz'\n",
    "im = nib.load(local_file)\n",
    "imarr = im.get_fdata()\n",
    "\n",
    "# Convert it to the format expected of the transforms\n",
    "# a dict of {\"image\": image, \"seg\": segmentation}\n",
    "# with samples for dims (b, c, x, y, z) for 3D or (b, c, x, y) for 2D\n",
    "imarr = imarr[np.newaxis]\n",
    "seg = np.zeros(imarr.shape)\n",
    "datadict = {\"image\": imarr, \"seg\": seg}\n",
    "datadict = tio.Subject(\n",
    "    t1=tio.ScalarImage(tensor=imarr),\n",
    "    label=tio.LabelMap(tensor=seg))\n",
    "print(\"Data is shaped :\", imarr.shape)"
   ]
  },
  {
   "cell_type": "code",
   "execution_count": 2,
   "metadata": {},
   "outputs": [],
   "source": [
    "idx = np.array(imarr.shape[1:])//4\n",
    "imarr_half = imarr[:, idx[0]:-idx[0], idx[1]:-idx[1], idx[2]:-idx[2]]\n",
    "seg_half = np.zeros(imarr_half.shape)\n",
    "datadict_half = tio.Subject(\n",
    "    t1=tio.ScalarImage(tensor=imarr_half),\n",
    "    label=tio.LabelMap(tensor=seg_half))"
   ]
  },
  {
   "cell_type": "code",
   "execution_count": 53,
   "metadata": {},
   "outputs": [
    {
     "name": "stdout",
     "output_type": "stream",
     "text": [
      "Deformation:  9.16136989100005 \n",
      "  Deformation half:  1.3109800734996497\n"
     ]
    }
   ],
   "source": [
    "# Applying Deformation\n",
    "tform = tio.transforms.RandomElasticDeformation()\n",
    "print(\"Deformation: \", timeit.timeit(lambda: tform(deepcopy(datadict)), number=iterations)/iterations, \"\\n \",\n",
    "      \"Deformation half: \", timeit.timeit(lambda: tform(deepcopy(datadict_half)), number=iterations)/iterations)"
   ]
  },
  {
   "cell_type": "code",
   "execution_count": 54,
   "metadata": {},
   "outputs": [
    {
     "name": "stdout",
     "output_type": "stream",
     "text": [
      "Motion Ghosting:  0.5419647674998487 \n",
      "  Motion Ghosting half:  0.07828107749992341\n"
     ]
    }
   ],
   "source": [
    "# Applying Ghosting\n",
    "tform = tio.transforms.RandomGhosting(num_ghosts=3, axes=(0, 1), intensity=0.6)\n",
    "print(\"Motion Ghosting: \", timeit.timeit(lambda: tform(deepcopy(datadict)), number=iterations)/iterations, \"\\n \",\n",
    "      \"Motion Ghosting half: \", timeit.timeit(lambda: tform(deepcopy(datadict_half)), number=iterations)/iterations)"
   ]
  },
  {
   "cell_type": "code",
   "execution_count": 11,
   "metadata": {},
   "outputs": [
    {
     "ename": "KeyboardInterrupt",
     "evalue": "",
     "output_type": "error",
     "traceback": [
      "\u001b[0;31m---------------------------------------------------------------------------\u001b[0m",
      "\u001b[0;31mKeyboardInterrupt\u001b[0m                         Traceback (most recent call last)",
      "Cell \u001b[0;32mIn[11], line 10\u001b[0m\n\u001b[1;32m      4\u001b[0m \u001b[39m# create an elsatic deformation transform\u001b[39;00m\n\u001b[1;32m      5\u001b[0m deform \u001b[39m=\u001b[39m Rand3DElastic(\n\u001b[1;32m      6\u001b[0m     prob\u001b[39m=\u001b[39m\u001b[39m1.0\u001b[39m,\n\u001b[1;32m      7\u001b[0m     sigma_range\u001b[39m=\u001b[39m(\u001b[39m8.\u001b[39m, \u001b[39m8.\u001b[39m),\n\u001b[1;32m      8\u001b[0m     magnitude_range\u001b[39m=\u001b[39m(\u001b[39m3.\u001b[39m, \u001b[39m3.\u001b[39m))\n\u001b[0;32m---> 10\u001b[0m \u001b[39mprint\u001b[39m(\u001b[39m\"\u001b[39m\u001b[39mDeform: \u001b[39m\u001b[39m\"\u001b[39m, timeit\u001b[39m.\u001b[39;49mtimeit(\u001b[39mlambda\u001b[39;49;00m: deform(imarr), number\u001b[39m=\u001b[39;49miterations)\u001b[39m/\u001b[39miterations)\n",
      "File \u001b[0;32m~/miniconda3/envs/yuccat2/lib/python3.10/timeit.py:234\u001b[0m, in \u001b[0;36mtimeit\u001b[0;34m(stmt, setup, timer, number, globals)\u001b[0m\n\u001b[1;32m    231\u001b[0m \u001b[39mdef\u001b[39;00m \u001b[39mtimeit\u001b[39m(stmt\u001b[39m=\u001b[39m\u001b[39m\"\u001b[39m\u001b[39mpass\u001b[39m\u001b[39m\"\u001b[39m, setup\u001b[39m=\u001b[39m\u001b[39m\"\u001b[39m\u001b[39mpass\u001b[39m\u001b[39m\"\u001b[39m, timer\u001b[39m=\u001b[39mdefault_timer,\n\u001b[1;32m    232\u001b[0m            number\u001b[39m=\u001b[39mdefault_number, \u001b[39mglobals\u001b[39m\u001b[39m=\u001b[39m\u001b[39mNone\u001b[39;00m):\n\u001b[1;32m    233\u001b[0m \u001b[39m    \u001b[39m\u001b[39m\"\"\"Convenience function to create Timer object and call timeit method.\"\"\"\u001b[39;00m\n\u001b[0;32m--> 234\u001b[0m     \u001b[39mreturn\u001b[39;00m Timer(stmt, setup, timer, \u001b[39mglobals\u001b[39;49m)\u001b[39m.\u001b[39;49mtimeit(number)\n",
      "File \u001b[0;32m~/miniconda3/envs/yuccat2/lib/python3.10/timeit.py:178\u001b[0m, in \u001b[0;36mTimer.timeit\u001b[0;34m(self, number)\u001b[0m\n\u001b[1;32m    176\u001b[0m gc\u001b[39m.\u001b[39mdisable()\n\u001b[1;32m    177\u001b[0m \u001b[39mtry\u001b[39;00m:\n\u001b[0;32m--> 178\u001b[0m     timing \u001b[39m=\u001b[39m \u001b[39mself\u001b[39;49m\u001b[39m.\u001b[39;49minner(it, \u001b[39mself\u001b[39;49m\u001b[39m.\u001b[39;49mtimer)\n\u001b[1;32m    179\u001b[0m \u001b[39mfinally\u001b[39;00m:\n\u001b[1;32m    180\u001b[0m     \u001b[39mif\u001b[39;00m gcold:\n",
      "File \u001b[0;32m<timeit-src>:6\u001b[0m, in \u001b[0;36minner\u001b[0;34m(_it, _timer, _stmt)\u001b[0m\n",
      "Cell \u001b[0;32mIn[11], line 10\u001b[0m, in \u001b[0;36m<lambda>\u001b[0;34m()\u001b[0m\n\u001b[1;32m      4\u001b[0m \u001b[39m# create an elsatic deformation transform\u001b[39;00m\n\u001b[1;32m      5\u001b[0m deform \u001b[39m=\u001b[39m Rand3DElastic(\n\u001b[1;32m      6\u001b[0m     prob\u001b[39m=\u001b[39m\u001b[39m1.0\u001b[39m,\n\u001b[1;32m      7\u001b[0m     sigma_range\u001b[39m=\u001b[39m(\u001b[39m8.\u001b[39m, \u001b[39m8.\u001b[39m),\n\u001b[1;32m      8\u001b[0m     magnitude_range\u001b[39m=\u001b[39m(\u001b[39m3.\u001b[39m, \u001b[39m3.\u001b[39m))\n\u001b[0;32m---> 10\u001b[0m \u001b[39mprint\u001b[39m(\u001b[39m\"\u001b[39m\u001b[39mDeform: \u001b[39m\u001b[39m\"\u001b[39m, timeit\u001b[39m.\u001b[39mtimeit(\u001b[39mlambda\u001b[39;00m: deform(imarr), number\u001b[39m=\u001b[39miterations)\u001b[39m/\u001b[39miterations)\n",
      "File \u001b[0;32m~/miniconda3/envs/yuccat2/lib/python3.10/site-packages/monai/transforms/spatial/array.py:2902\u001b[0m, in \u001b[0;36mRand3DElastic.__call__\u001b[0;34m(self, img, spatial_size, mode, padding_mode, randomize)\u001b[0m\n\u001b[1;32m   2900\u001b[0m     gaussian \u001b[39m=\u001b[39m GaussianFilter(\u001b[39m3\u001b[39m, \u001b[39mself\u001b[39m\u001b[39m.\u001b[39msigma, \u001b[39m3.0\u001b[39m)\u001b[39m.\u001b[39mto(device\u001b[39m=\u001b[39m_device)\n\u001b[1;32m   2901\u001b[0m     offset \u001b[39m=\u001b[39m torch\u001b[39m.\u001b[39mas_tensor(\u001b[39mself\u001b[39m\u001b[39m.\u001b[39mrand_offset, device\u001b[39m=\u001b[39m_device)\u001b[39m.\u001b[39munsqueeze(\u001b[39m0\u001b[39m)\n\u001b[0;32m-> 2902\u001b[0m     grid[:\u001b[39m3\u001b[39m] \u001b[39m+\u001b[39m\u001b[39m=\u001b[39m gaussian(offset)[\u001b[39m0\u001b[39m] \u001b[39m*\u001b[39m \u001b[39mself\u001b[39m\u001b[39m.\u001b[39mmagnitude\n\u001b[1;32m   2903\u001b[0m     grid \u001b[39m=\u001b[39m \u001b[39mself\u001b[39m\u001b[39m.\u001b[39mrand_affine_grid(grid\u001b[39m=\u001b[39mgrid)\n\u001b[1;32m   2904\u001b[0m out: torch\u001b[39m.\u001b[39mTensor \u001b[39m=\u001b[39m \u001b[39mself\u001b[39m\u001b[39m.\u001b[39mresampler(\n\u001b[1;32m   2905\u001b[0m     img,\n\u001b[1;32m   2906\u001b[0m     grid,  \u001b[39m# type: ignore\u001b[39;00m\n\u001b[1;32m   2907\u001b[0m     mode\u001b[39m=\u001b[39mmode \u001b[39mif\u001b[39;00m mode \u001b[39mis\u001b[39;00m \u001b[39mnot\u001b[39;00m \u001b[39mNone\u001b[39;00m \u001b[39melse\u001b[39;00m \u001b[39mself\u001b[39m\u001b[39m.\u001b[39mmode,\n\u001b[1;32m   2908\u001b[0m     padding_mode\u001b[39m=\u001b[39mpadding_mode \u001b[39mif\u001b[39;00m padding_mode \u001b[39mis\u001b[39;00m \u001b[39mnot\u001b[39;00m \u001b[39mNone\u001b[39;00m \u001b[39melse\u001b[39;00m \u001b[39mself\u001b[39m\u001b[39m.\u001b[39mpadding_mode,\n\u001b[1;32m   2909\u001b[0m )\n",
      "File \u001b[0;32m~/miniconda3/envs/yuccat2/lib/python3.10/site-packages/torch/nn/modules/module.py:1501\u001b[0m, in \u001b[0;36mModule._call_impl\u001b[0;34m(self, *args, **kwargs)\u001b[0m\n\u001b[1;32m   1496\u001b[0m \u001b[39m# If we don't have any hooks, we want to skip the rest of the logic in\u001b[39;00m\n\u001b[1;32m   1497\u001b[0m \u001b[39m# this function, and just call forward.\u001b[39;00m\n\u001b[1;32m   1498\u001b[0m \u001b[39mif\u001b[39;00m \u001b[39mnot\u001b[39;00m (\u001b[39mself\u001b[39m\u001b[39m.\u001b[39m_backward_hooks \u001b[39mor\u001b[39;00m \u001b[39mself\u001b[39m\u001b[39m.\u001b[39m_backward_pre_hooks \u001b[39mor\u001b[39;00m \u001b[39mself\u001b[39m\u001b[39m.\u001b[39m_forward_hooks \u001b[39mor\u001b[39;00m \u001b[39mself\u001b[39m\u001b[39m.\u001b[39m_forward_pre_hooks\n\u001b[1;32m   1499\u001b[0m         \u001b[39mor\u001b[39;00m _global_backward_pre_hooks \u001b[39mor\u001b[39;00m _global_backward_hooks\n\u001b[1;32m   1500\u001b[0m         \u001b[39mor\u001b[39;00m _global_forward_hooks \u001b[39mor\u001b[39;00m _global_forward_pre_hooks):\n\u001b[0;32m-> 1501\u001b[0m     \u001b[39mreturn\u001b[39;00m forward_call(\u001b[39m*\u001b[39;49margs, \u001b[39m*\u001b[39;49m\u001b[39m*\u001b[39;49mkwargs)\n\u001b[1;32m   1502\u001b[0m \u001b[39m# Do not call functions when jit is used\u001b[39;00m\n\u001b[1;32m   1503\u001b[0m full_backward_hooks, non_full_backward_hooks \u001b[39m=\u001b[39m [], []\n",
      "File \u001b[0;32m~/miniconda3/envs/yuccat2/lib/python3.10/site-packages/monai/networks/layers/simplelayers.py:610\u001b[0m, in \u001b[0;36mGaussianFilter.forward\u001b[0;34m(self, x)\u001b[0m\n\u001b[1;32m    605\u001b[0m \u001b[39m\u001b[39m\u001b[39m\"\"\"\u001b[39;00m\n\u001b[1;32m    606\u001b[0m \u001b[39mArgs:\u001b[39;00m\n\u001b[1;32m    607\u001b[0m \u001b[39m    x: in shape [Batch, chns, H, W, D].\u001b[39;00m\n\u001b[1;32m    608\u001b[0m \u001b[39m\"\"\"\u001b[39;00m\n\u001b[1;32m    609\u001b[0m _kernel \u001b[39m=\u001b[39m [gaussian_1d(s, truncated\u001b[39m=\u001b[39m\u001b[39mself\u001b[39m\u001b[39m.\u001b[39mtruncated, approx\u001b[39m=\u001b[39m\u001b[39mself\u001b[39m\u001b[39m.\u001b[39mapprox) \u001b[39mfor\u001b[39;00m s \u001b[39min\u001b[39;00m \u001b[39mself\u001b[39m\u001b[39m.\u001b[39msigma]\n\u001b[0;32m--> 610\u001b[0m \u001b[39mreturn\u001b[39;00m separable_filtering(x\u001b[39m=\u001b[39;49mx, kernels\u001b[39m=\u001b[39;49m_kernel)\n",
      "File \u001b[0;32m~/miniconda3/envs/yuccat2/lib/python3.10/site-packages/monai/networks/layers/simplelayers.py:251\u001b[0m, in \u001b[0;36mseparable_filtering\u001b[0;34m(x, kernels, mode)\u001b[0m\n\u001b[1;32m    248\u001b[0m n_chs \u001b[39m=\u001b[39m x\u001b[39m.\u001b[39mshape[\u001b[39m1\u001b[39m]\n\u001b[1;32m    249\u001b[0m pad_mode \u001b[39m=\u001b[39m \u001b[39m\"\u001b[39m\u001b[39mconstant\u001b[39m\u001b[39m\"\u001b[39m \u001b[39mif\u001b[39;00m mode \u001b[39m==\u001b[39m \u001b[39m\"\u001b[39m\u001b[39mzeros\u001b[39m\u001b[39m\"\u001b[39m \u001b[39melse\u001b[39;00m mode\n\u001b[0;32m--> 251\u001b[0m \u001b[39mreturn\u001b[39;00m _separable_filtering_conv(x, _kernels, pad_mode, spatial_dims \u001b[39m-\u001b[39;49m \u001b[39m1\u001b[39;49m, spatial_dims, _paddings, n_chs)\n",
      "File \u001b[0;32m~/miniconda3/envs/yuccat2/lib/python3.10/site-packages/monai/networks/layers/simplelayers.py:203\u001b[0m, in \u001b[0;36m_separable_filtering_conv\u001b[0;34m(input_, kernels, pad_mode, d, spatial_dims, paddings, num_channels)\u001b[0m\n\u001b[1;32m    199\u001b[0m _sum_reversed_padding_repeated_twice: List[\u001b[39mint\u001b[39m] \u001b[39m=\u001b[39m \u001b[39msum\u001b[39m(_reversed_padding_repeated_twice, [])\n\u001b[1;32m    200\u001b[0m padded_input \u001b[39m=\u001b[39m F\u001b[39m.\u001b[39mpad(input_, _sum_reversed_padding_repeated_twice, mode\u001b[39m=\u001b[39mpad_mode)\n\u001b[1;32m    202\u001b[0m \u001b[39mreturn\u001b[39;00m conv_type(\n\u001b[0;32m--> 203\u001b[0m     \u001b[39minput\u001b[39m\u001b[39m=\u001b[39m_separable_filtering_conv(padded_input, kernels, pad_mode, d \u001b[39m-\u001b[39;49m \u001b[39m1\u001b[39;49m, spatial_dims, paddings, num_channels),\n\u001b[1;32m    204\u001b[0m     weight\u001b[39m=\u001b[39m_kernel,\n\u001b[1;32m    205\u001b[0m     groups\u001b[39m=\u001b[39mnum_channels,\n\u001b[1;32m    206\u001b[0m )\n",
      "File \u001b[0;32m~/miniconda3/envs/yuccat2/lib/python3.10/site-packages/monai/networks/layers/simplelayers.py:203\u001b[0m, in \u001b[0;36m_separable_filtering_conv\u001b[0;34m(input_, kernels, pad_mode, d, spatial_dims, paddings, num_channels)\u001b[0m\n\u001b[1;32m    199\u001b[0m _sum_reversed_padding_repeated_twice: List[\u001b[39mint\u001b[39m] \u001b[39m=\u001b[39m \u001b[39msum\u001b[39m(_reversed_padding_repeated_twice, [])\n\u001b[1;32m    200\u001b[0m padded_input \u001b[39m=\u001b[39m F\u001b[39m.\u001b[39mpad(input_, _sum_reversed_padding_repeated_twice, mode\u001b[39m=\u001b[39mpad_mode)\n\u001b[1;32m    202\u001b[0m \u001b[39mreturn\u001b[39;00m conv_type(\n\u001b[0;32m--> 203\u001b[0m     \u001b[39minput\u001b[39m\u001b[39m=\u001b[39m_separable_filtering_conv(padded_input, kernels, pad_mode, d \u001b[39m-\u001b[39;49m \u001b[39m1\u001b[39;49m, spatial_dims, paddings, num_channels),\n\u001b[1;32m    204\u001b[0m     weight\u001b[39m=\u001b[39m_kernel,\n\u001b[1;32m    205\u001b[0m     groups\u001b[39m=\u001b[39mnum_channels,\n\u001b[1;32m    206\u001b[0m )\n",
      "File \u001b[0;32m~/miniconda3/envs/yuccat2/lib/python3.10/site-packages/monai/networks/layers/simplelayers.py:202\u001b[0m, in \u001b[0;36m_separable_filtering_conv\u001b[0;34m(input_, kernels, pad_mode, d, spatial_dims, paddings, num_channels)\u001b[0m\n\u001b[1;32m    199\u001b[0m _sum_reversed_padding_repeated_twice: List[\u001b[39mint\u001b[39m] \u001b[39m=\u001b[39m \u001b[39msum\u001b[39m(_reversed_padding_repeated_twice, [])\n\u001b[1;32m    200\u001b[0m padded_input \u001b[39m=\u001b[39m F\u001b[39m.\u001b[39mpad(input_, _sum_reversed_padding_repeated_twice, mode\u001b[39m=\u001b[39mpad_mode)\n\u001b[0;32m--> 202\u001b[0m \u001b[39mreturn\u001b[39;00m conv_type(\n\u001b[1;32m    203\u001b[0m     \u001b[39minput\u001b[39;49m\u001b[39m=\u001b[39;49m_separable_filtering_conv(padded_input, kernels, pad_mode, d \u001b[39m-\u001b[39;49m \u001b[39m1\u001b[39;49m, spatial_dims, paddings, num_channels),\n\u001b[1;32m    204\u001b[0m     weight\u001b[39m=\u001b[39;49m_kernel,\n\u001b[1;32m    205\u001b[0m     groups\u001b[39m=\u001b[39;49mnum_channels,\n\u001b[1;32m    206\u001b[0m )\n",
      "\u001b[0;31mKeyboardInterrupt\u001b[0m: "
     ]
    }
   ],
   "source": [
    "from monai.transforms import Rand3DElastic\n",
    "datadict = {\"image\": imarr, \"seg\": seg}\n",
    "\n",
    "# create an elsatic deformation transform\n",
    "deform = Rand3DElastic(\n",
    "    prob=1.0,\n",
    "    sigma_range=(8., 8.),\n",
    "    magnitude_range=(3., 3.))\n",
    "\n",
    "print(\"Deform: \", timeit.timeit(lambda: deform(imarr[0]), number=iterations)/iterations)\n"
   ]
  },
  {
   "cell_type": "code",
   "execution_count": 5,
   "metadata": {},
   "outputs": [
    {
     "data": {
      "text/plain": [
       "(1, 128, 145, 128)"
      ]
     },
     "execution_count": 5,
     "metadata": {},
     "output_type": "execute_result"
    }
   ],
   "source": [
    "imarr_half.shape"
   ]
  },
  {
   "cell_type": "code",
   "execution_count": null,
   "metadata": {},
   "outputs": [],
   "source": []
  }
 ],
 "metadata": {
  "kernelspec": {
   "display_name": "MLOPS",
   "language": "python",
   "name": "python3"
  },
  "language_info": {
   "codemirror_mode": {
    "name": "ipython",
    "version": 3
   },
   "file_extension": ".py",
   "mimetype": "text/x-python",
   "name": "python",
   "nbconvert_exporter": "python",
   "pygments_lexer": "ipython3",
   "version": "3.9.15"
  },
  "orig_nbformat": 4,
  "vscode": {
   "interpreter": {
    "hash": "119d2afe3a63a00158ef1e398aa894a365427b96819596c85c5d30166e8a9d4b"
   }
  }
 },
 "nbformat": 4,
 "nbformat_minor": 2
}
